{
 "cells": [
  {
   "cell_type": "code",
   "execution_count": 1,
   "metadata": {},
   "outputs": [],
   "source": [
    "import numpy\n",
    "import matplotlib\n",
    "import scipy.special\n",
    "%matplotlib inline"
   ]
  },
  {
   "cell_type": "code",
   "execution_count": 36,
   "metadata": {},
   "outputs": [],
   "source": [
    "class neuralNetwork:\n",
    "    \n",
    "    \n",
    "    # initialise the neural network\n",
    "    def __init__(self, inputnodes, hiddennodes, outputnodes, learningrate):\n",
    "        # set number of nodes in each input, hidden, output layer\n",
    "        self.inodes = inputnodes\n",
    "        self.hnodes = hiddennodes\n",
    "        self.onodes = outputnodes\n",
    "        \n",
    "        # link weight matrices, wih and who\n",
    "        # weights inside the arrays are w_i_j, where link is from node i to node j in the next layer\n",
    "        # w11 w21\n",
    "        # w12 w22 etc \n",
    "        self.wih = numpy.random.normal(0.0, pow(self.inodes, -0.5), (self.hnodes, self.inodes))\n",
    "        self.who = numpy.random.normal(0.0, pow(self.hnodes, -0.5), (self.onodes, self.hnodes))\n",
    "\n",
    "        # learning rate\n",
    "        self.lr = learningrate\n",
    "        \n",
    "        # activation function is the sigmoid function\n",
    "        self.activation_function = lambda x: scipy.special.expit(x)\n",
    "        \n",
    "        pass\n",
    "\n",
    "    \n",
    "    # train the neural network\n",
    "    def train(self, inputs_list, targets_list):\n",
    "        # convert inputs list to 2d array\n",
    "        inputs = numpy.array(inputs_list, ndmin=2).T\n",
    "        targets = numpy.array(targets_list, ndmin=2).T\n",
    "        \n",
    "        # calculate signals into hidden layer\n",
    "        hidden_inputs = numpy.dot(self.wih, inputs)\n",
    "        # calculate the signals emerging from hidden layer\n",
    "        hidden_outputs = self.activation_function(hidden_inputs)\n",
    "        \n",
    "        # calculate signals into final output layer\n",
    "        final_inputs = numpy.dot(self.who, hidden_outputs)\n",
    "        # calculate the signals emerging from final output layer\n",
    "        final_outputs = self.activation_function(final_inputs)\n",
    "        \n",
    "        # output layer error is the (target - actual)\n",
    "        output_errors = targets - final_outputs\n",
    "        # hidden layer error is the output_errors, split by weights, recombined at hidden nodes\n",
    "        hidden_errors = numpy.dot(self.who.T, output_errors) \n",
    "        \n",
    "        # update the weights for the links between the hidden and output layers\n",
    "        self.who += self.lr * numpy.dot((output_errors * final_outputs * (1.0 - final_outputs)), numpy.transpose(hidden_outputs))\n",
    "        \n",
    "        # update the weights for the links between the input and hidden layers\n",
    "        self.wih += self.lr * numpy.dot((hidden_errors * hidden_outputs * (1.0 - hidden_outputs)), numpy.transpose(inputs))\n",
    "        \n",
    "        pass\n",
    "\n",
    "    \n",
    "    # query the neural network\n",
    "    def query(self, inputs_list):\n",
    "        # convert inputs list to 2d array\n",
    "        inputs = numpy.array(inputs_list, ndmin=2).T\n",
    "        \n",
    "        # calculate signals into hidden layer\n",
    "        hidden_inputs = numpy.dot(self.wih, inputs)\n",
    "        # calculate the signals emerging from hidden layer\n",
    "        hidden_outputs = self.activation_function(hidden_inputs)\n",
    "        \n",
    "        # calculate signals into final output layer\n",
    "        final_inputs = numpy.dot(self.who, hidden_outputs)\n",
    "        # calculate the signals emerging from final output layer\n",
    "        final_outputs = self.activation_function(final_inputs)\n",
    "        \n",
    "        return hidden_outputs"
   ]
  },
  {
   "cell_type": "code",
   "execution_count": 37,
   "metadata": {},
   "outputs": [],
   "source": [
    "input_nodes = 784\n",
    "hidden_nodes = 200\n",
    "output_nodes = 10\n",
    "\n",
    "# learning rate\n",
    "learning_rate = 0.1\n",
    "\n",
    "# create instance of neural network\n",
    "n = neuralNetwork(input_nodes,hidden_nodes,output_nodes, learning_rate)"
   ]
  },
  {
   "cell_type": "code",
   "execution_count": 38,
   "metadata": {},
   "outputs": [],
   "source": [
    "test_data_file = open(\"mnist_test_10.csv\", 'r')\n",
    "test_data_list = test_data_file.readlines()\n",
    "test_data_file.close()"
   ]
  },
  {
   "cell_type": "code",
   "execution_count": 39,
   "metadata": {
    "scrolled": true
   },
   "outputs": [
    {
     "name": "stdout",
     "output_type": "stream",
     "text": [
      "7\n"
     ]
    }
   ],
   "source": [
    "all_values = test_data_list[0].split(',')\n",
    "print(all_values[0])"
   ]
  },
  {
   "cell_type": "code",
   "execution_count": 40,
   "metadata": {},
   "outputs": [
    {
     "data": {
      "text/plain": [
       "<matplotlib.image.AxesImage at 0x11251c8d0>"
      ]
     },
     "execution_count": 40,
     "metadata": {},
     "output_type": "execute_result"
    },
    {
     "data": {
      "image/png": "[encoded data removed]",
      "text/plain": [
       "<Figure size 432x288 with 1 Axes>"
      ]
     },
     "metadata": {},
     "output_type": "display_data"
    }
   ],
   "source": [
    "image_array = numpy.asfarray(all_values[1:]).reshape((28,28))\n",
    "matplotlib.pyplot.imshow(image_array, cmap='Greys', interpolation='None')"
   ]
  },
  {
   "cell_type": "code",
   "execution_count": 42,
   "metadata": {},
   "outputs": [
    {
     "data": {
      "text/plain": [
       "array([[0.5200068 ],\n",
       "       [0.53243462],\n",
       "       [0.50589189],\n",
       "       [0.68757561],\n",
       "       [0.43435077],\n",
       "       [0.55674894],\n",
       "       [0.56280568],\n",
       "       [0.49216844],\n",
       "       [0.54760559],\n",
       "       [0.52346529],\n",
       "       [0.4506273 ],\n",
       "       [0.4415481 ],\n",
       "       [0.61281027],\n",
       "       [0.51672555],\n",
       "       [0.43134559],\n",
       "       [0.49818809],\n",
       "       [0.59129727],\n",
       "       [0.48221972],\n",
       "       [0.5847107 ],\n",
       "       [0.44638356],\n",
       "       [0.48474495],\n",
       "       [0.50788205],\n",
       "       [0.5369469 ],\n",
       "       [0.56853728],\n",
       "       [0.49290306],\n",
       "       [0.56963101],\n",
       "       [0.49474882],\n",
       "       [0.5913088 ],\n",
       "       [0.51301122],\n",
       "       [0.50790691],\n",
       "       [0.43566651],\n",
       "       [0.55424996],\n",
       "       [0.5582046 ],\n",
       "       [0.44111833],\n",
       "       [0.49494705],\n",
       "       [0.53497209],\n",
       "       [0.4078557 ],\n",
       "       [0.55727543],\n",
       "       [0.45049606],\n",
       "       [0.33749068],\n",
       "       [0.61229521],\n",
       "       [0.49794408],\n",
       "       [0.48396115],\n",
       "       [0.5003212 ],\n",
       "       [0.54280427],\n",
       "       [0.59648377],\n",
       "       [0.5590617 ],\n",
       "       [0.58240519],\n",
       "       [0.5824604 ],\n",
       "       [0.56043523],\n",
       "       [0.52274748],\n",
       "       [0.49189022],\n",
       "       [0.5072512 ],\n",
       "       [0.49903065],\n",
       "       [0.47950355],\n",
       "       [0.54633056],\n",
       "       [0.48231678],\n",
       "       [0.5645897 ],\n",
       "       [0.55265646],\n",
       "       [0.47505284],\n",
       "       [0.42523438],\n",
       "       [0.38409482],\n",
       "       [0.48243381],\n",
       "       [0.54175896],\n",
       "       [0.42199491],\n",
       "       [0.55518044],\n",
       "       [0.490877  ],\n",
       "       [0.59594269],\n",
       "       [0.48280642],\n",
       "       [0.53310853],\n",
       "       [0.50058198],\n",
       "       [0.43036318],\n",
       "       [0.60675128],\n",
       "       [0.46424832],\n",
       "       [0.57634117],\n",
       "       [0.43678897],\n",
       "       [0.51269259],\n",
       "       [0.5117616 ],\n",
       "       [0.63166568],\n",
       "       [0.4813734 ],\n",
       "       [0.59581831],\n",
       "       [0.42538506],\n",
       "       [0.41433658],\n",
       "       [0.52036235],\n",
       "       [0.52757   ],\n",
       "       [0.4710416 ],\n",
       "       [0.5268728 ],\n",
       "       [0.51364211],\n",
       "       [0.44976713],\n",
       "       [0.39282516],\n",
       "       [0.38411826],\n",
       "       [0.55389741],\n",
       "       [0.52904028],\n",
       "       [0.52976937],\n",
       "       [0.45490543],\n",
       "       [0.5736211 ],\n",
       "       [0.7350636 ],\n",
       "       [0.6289806 ],\n",
       "       [0.63813056],\n",
       "       [0.53227403],\n",
       "       [0.36896864],\n",
       "       [0.63035401],\n",
       "       [0.50644409],\n",
       "       [0.60656938],\n",
       "       [0.51639958],\n",
       "       [0.34519989],\n",
       "       [0.45895835],\n",
       "       [0.40837252],\n",
       "       [0.49977222],\n",
       "       [0.56072442],\n",
       "       [0.42289048],\n",
       "       [0.55613733],\n",
       "       [0.40406019],\n",
       "       [0.51403947],\n",
       "       [0.50917754],\n",
       "       [0.56599102],\n",
       "       [0.46101621],\n",
       "       [0.48835997],\n",
       "       [0.48370662],\n",
       "       [0.5094724 ],\n",
       "       [0.53349069],\n",
       "       [0.51959803],\n",
       "       [0.43999468],\n",
       "       [0.44809121],\n",
       "       [0.48318695],\n",
       "       [0.4991532 ],\n",
       "       [0.50203207],\n",
       "       [0.44685235],\n",
       "       [0.45009873],\n",
       "       [0.50465738],\n",
       "       [0.56344828],\n",
       "       [0.54449249],\n",
       "       [0.50045874],\n",
       "       [0.39828691],\n",
       "       [0.41876636],\n",
       "       [0.47734316],\n",
       "       [0.49965348],\n",
       "       [0.5339063 ],\n",
       "       [0.42503471],\n",
       "       [0.51698034],\n",
       "       [0.50796584],\n",
       "       [0.57039474],\n",
       "       [0.44247201],\n",
       "       [0.56444646],\n",
       "       [0.4959289 ],\n",
       "       [0.52395499],\n",
       "       [0.50781252],\n",
       "       [0.51079799],\n",
       "       [0.46405306],\n",
       "       [0.4484945 ],\n",
       "       [0.53534137],\n",
       "       [0.60213301],\n",
       "       [0.4385866 ],\n",
       "       [0.62922077],\n",
       "       [0.62956348],\n",
       "       [0.51872661],\n",
       "       [0.49374446],\n",
       "       [0.37418465],\n",
       "       [0.5111502 ],\n",
       "       [0.42705579],\n",
       "       [0.52294361],\n",
       "       [0.45379124],\n",
       "       [0.5177463 ],\n",
       "       [0.54805344],\n",
       "       [0.60448762],\n",
       "       [0.39675406],\n",
       "       [0.55687498],\n",
       "       [0.40239209],\n",
       "       [0.57467292],\n",
       "       [0.49535724],\n",
       "       [0.46919637],\n",
       "       [0.52956149],\n",
       "       [0.43841255],\n",
       "       [0.47968919],\n",
       "       [0.4933486 ],\n",
       "       [0.44219364],\n",
       "       [0.53441809],\n",
       "       [0.52695897],\n",
       "       [0.59768175],\n",
       "       [0.44260911],\n",
       "       [0.54060305],\n",
       "       [0.53905879],\n",
       "       [0.44396628],\n",
       "       [0.46043472],\n",
       "       [0.44068749],\n",
       "       [0.60657706],\n",
       "       [0.49048105],\n",
       "       [0.47952665],\n",
       "       [0.54928836],\n",
       "       [0.4967713 ],\n",
       "       [0.55365266],\n",
       "       [0.52827837],\n",
       "       [0.67838837],\n",
       "       [0.57139025],\n",
       "       [0.5681797 ],\n",
       "       [0.45676191],\n",
       "       [0.48242398],\n",
       "       [0.50302095],\n",
       "       [0.44393664],\n",
       "       [0.60222084]])"
      ]
     },
     "execution_count": 42,
     "metadata": {},
     "output_type": "execute_result"
    }
   ],
   "source": [
    "n.query((numpy.asfarray(all_values[1:]) / 255.0 * 0.99) + 0.01)"
   ]
  },
  {
   "cell_type": "code",
   "execution_count": 41,
   "metadata": {},
   "outputs": [
    {
     "data": {
      "text/plain": [
       "200"
      ]
     },
     "execution_count": 41,
     "metadata": {},
     "output_type": "execute_result"
    }
   ],
   "source": [
    "len(n.query((numpy.asfarray(all_values[1:]))))"
   ]
  },
  {
   "cell_type": "code",
   "execution_count": 43,
   "metadata": {},
   "outputs": [],
   "source": [
    "epochs = 2\n",
    "\n",
    "for e in range(epochs):\n",
    "    # go through all records in the training data set\n",
    "    for record in training_data_list:\n",
    "        # split the record by the ',' commas\n",
    "        all_values = record.split(',')\n",
    "        # scale and shift the inputs\n",
    "        inputs = (numpy.asfarray(all_values[1:]) / 255.0 * 0.99) + 0.01\n",
    "        # create the target output values (all 0.01, except the desired label which is 0.99)\n",
    "        targets = numpy.zeros(output_nodes) + 0.01\n",
    "        # all_values[0] is the target label for this record\n",
    "        targets[int(all_values[0])] = 0.99\n",
    "        n.train(inputs, targets)\n",
    "        pass\n",
    "    pass"
   ]
  },
  {
   "cell_type": "code",
   "execution_count": 44,
   "metadata": {},
   "outputs": [],
   "source": [
    "test_data_file = open(\"mnist_test_10.csv\", 'r')\n",
    "test_data_list = test_data_file.readlines()\n",
    "test_data_file.close()"
   ]
  },
  {
   "cell_type": "code",
   "execution_count": 45,
   "metadata": {},
   "outputs": [],
   "source": [
    "scorecard = []\n",
    "\n",
    "# go through all the records in the test data set\n",
    "for record in test_data_list:\n",
    "    # split the record by the ',' commas\n",
    "    all_values = record.split(',')\n",
    "    # correct answer is first value\n",
    "    correct_label = int(all_values[0])\n",
    "    # scale and shift the inputs\n",
    "    inputs = (numpy.asfarray(all_values[1:]) / 255.0 * 0.99) + 0.01\n",
    "    # query the network\n",
    "    outputs = n.query(inputs)\n",
    "    # the index of the highest value corresponds to the label\n",
    "    label = numpy.argmax(outputs)\n",
    "    # append correct or incorrect to list\n",
    "    if (label == correct_label):\n",
    "        # network's answer matches correct answer, add 1 to scorecard\n",
    "        scorecard.append(1)\n",
    "    else:\n",
    "        # network's answer doesn't match correct answer, add 0 to scorecard\n",
    "        scorecard.append(0)\n",
    "        pass\n",
    "    \n",
    "    pass"
   ]
  },
  {
   "cell_type": "code",
   "execution_count": 46,
   "metadata": {},
   "outputs": [
    {
     "name": "stdout",
     "output_type": "stream",
     "text": [
      "[0, 0, 0, 0, 0, 0, 0, 0, 0, 0]\n"
     ]
    }
   ],
   "source": [
    "print(scorecard)"
   ]
  },
  {
   "cell_type": "code",
   "execution_count": 47,
   "metadata": {},
   "outputs": [
    {
     "name": "stdout",
     "output_type": "stream",
     "text": [
      "performance =  0.0\n"
     ]
    }
   ],
   "source": [
    "scorecard_array = numpy.asarray(scorecard)\n",
    "print (\"performance = \", scorecard_array.sum() / scorecard_array.size)"
   ]
  },
  {
   "cell_type": "code",
   "execution_count": null,
   "metadata": {},
   "outputs": [],
   "source": []
  }
 ],
 "metadata": {
  "kernelspec": {
   "display_name": "Python 3",
   "language": "python",
   "name": "python3"
  },
  "language_info": {
   "codemirror_mode": {
    "name": "ipython",
    "version": 3
   },
   "file_extension": ".py",
   "mimetype": "text/x-python",
   "name": "python",
   "nbconvert_exporter": "python",
   "pygments_lexer": "ipython3",
   "version": "3.6.5"
  }
 },
 "nbformat": 4,
 "nbformat_minor": 2
}
